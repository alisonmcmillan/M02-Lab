{
 "cells": [
  {
   "cell_type": "code",
   "execution_count": 1,
   "id": "11d83cbc-2055-440c-9469-ad30d0abd02f",
   "metadata": {},
   "outputs": [
    {
     "name": "stdin",
     "output_type": "stream",
     "text": [
      "Enter the student's last name [type ZZZ to quit]:  McMillan\n",
      "Enter the student's first name:  Alison\n",
      "Enter the student's GPA:  3.5\n"
     ]
    },
    {
     "name": "stdout",
     "output_type": "stream",
     "text": [
      "Alison McMillan has made the Dean's List\n"
     ]
    },
    {
     "name": "stdin",
     "output_type": "stream",
     "text": [
      "Enter the student's last name [type ZZZ to quit]:  Taylor\n",
      "Enter the student's first name:  Olivia\n",
      "Enter the student's GPA:  3.25\n"
     ]
    },
    {
     "name": "stdout",
     "output_type": "stream",
     "text": [
      "Olivia Taylor has made the Honor Roll\n"
     ]
    },
    {
     "name": "stdin",
     "output_type": "stream",
     "text": [
      "Enter the student's last name [type ZZZ to quit]:  Green\n",
      "Enter the student's first name:  Hidla\n",
      "Enter the student's GPA:  3.45\n"
     ]
    },
    {
     "name": "stdout",
     "output_type": "stream",
     "text": [
      "Hidla Green has made the Honor Roll\n"
     ]
    },
    {
     "name": "stdin",
     "output_type": "stream",
     "text": [
      "Enter the student's last name [type ZZZ to quit]:  Adams\n",
      "Enter the student's first name:  Ethan\n",
      "Enter the student's GPA:  3.75\n"
     ]
    },
    {
     "name": "stdout",
     "output_type": "stream",
     "text": [
      "Ethan Adams has made the Dean's List\n"
     ]
    },
    {
     "name": "stdin",
     "output_type": "stream",
     "text": [
      "Enter the student's last name [type ZZZ to quit]:  Brown\n",
      "Enter the student's first name:  Alice\n",
      "Enter the student's GPA:  3.10\n",
      "Enter the student's last name [type ZZZ to quit]:  ZZZ\n"
     ]
    }
   ],
   "source": [
    "#Alison McMillan\n",
    "#Student_gpa_checker.py\n",
    "#The app uses the student's last and first name along with their GPA. \n",
    "#After entering in their GPA it will determine if the student as\n",
    "# made the Honor Roll or Dean's List for the student.\n",
    "#This app will continue until the user enters in a \"ZZZ\" in the last name input\n",
    "\n",
    "while True:\n",
    "    last_name = input(\"Enter the student's last name [type ZZZ to quit]: \")\n",
    "    if last_name == 'ZZZ':\n",
    "        break\n",
    "\n",
    "    first_name = input(\"Enter the student's first name: \")\n",
    "    gpa = float(input(\"Enter the student's GPA: \"))\n",
    "\n",
    "    if gpa >= 3.5:\n",
    "        print(f\"{first_name} {last_name} has made the Dean's List\")\n",
    "    elif gpa >= 3.25:\n",
    "        print(f\"{first_name} {last_name} has made the Honor Roll\")"
   ]
  },
  {
   "cell_type": "code",
   "execution_count": null,
   "id": "586cecfe-57b9-4bca-becb-079c82e2d8de",
   "metadata": {},
   "outputs": [],
   "source": []
  }
 ],
 "metadata": {
  "kernelspec": {
   "display_name": "Python 3 (ipykernel)",
   "language": "python",
   "name": "python3"
  },
  "language_info": {
   "codemirror_mode": {
    "name": "ipython",
    "version": 3
   },
   "file_extension": ".py",
   "mimetype": "text/x-python",
   "name": "python",
   "nbconvert_exporter": "python",
   "pygments_lexer": "ipython3",
   "version": "3.11.7"
  }
 },
 "nbformat": 4,
 "nbformat_minor": 5
}
